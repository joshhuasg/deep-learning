{
 "cells": [
  {
   "cell_type": "code",
   "execution_count": 1,
   "metadata": {
    "execution": {
     "iopub.execute_input": "2021-11-22T12:01:13.949030Z",
     "iopub.status.busy": "2021-11-22T12:01:13.948494Z",
     "iopub.status.idle": "2021-11-22T12:01:18.003281Z",
     "shell.execute_reply": "2021-11-22T12:01:18.002537Z",
     "shell.execute_reply.started": "2021-11-22T12:01:13.948942Z"
    }
   },
   "outputs": [],
   "source": [
    "import tensorflow as tf"
   ]
  },
  {
   "cell_type": "code",
   "execution_count": 2,
   "metadata": {
    "execution": {
     "iopub.execute_input": "2021-11-22T12:01:18.005231Z",
     "iopub.status.busy": "2021-11-22T12:01:18.004981Z",
     "iopub.status.idle": "2021-11-22T12:01:18.009101Z",
     "shell.execute_reply": "2021-11-22T12:01:18.008419Z",
     "shell.execute_reply.started": "2021-11-22T12:01:18.005196Z"
    }
   },
   "outputs": [],
   "source": [
    "import numpy as np\n",
    "import matplotlib.pyplot as plt"
   ]
  },
  {
   "cell_type": "markdown",
   "metadata": {},
   "source": [
    "# Importing Data"
   ]
  },
  {
   "cell_type": "code",
   "execution_count": 3,
   "metadata": {
    "execution": {
     "iopub.execute_input": "2021-11-22T12:01:18.010871Z",
     "iopub.status.busy": "2021-11-22T12:01:18.010411Z",
     "iopub.status.idle": "2021-11-22T12:01:19.949247Z",
     "shell.execute_reply": "2021-11-22T12:01:19.948550Z",
     "shell.execute_reply.started": "2021-11-22T12:01:18.010835Z"
    },
    "scrolled": true
   },
   "outputs": [
    {
     "name": "stdout",
     "output_type": "stream",
     "text": [
      "Downloading data from https://storage.googleapis.com/tensorflow/tf-keras-datasets/train-labels-idx1-ubyte.gz\n",
      "32768/29515 [=================================] - 0s 0us/step\n",
      "40960/29515 [=========================================] - 0s 0us/step\n",
      "Downloading data from https://storage.googleapis.com/tensorflow/tf-keras-datasets/train-images-idx3-ubyte.gz\n",
      "26427392/26421880 [==============================] - 0s 0us/step\n",
      "26435584/26421880 [==============================] - 0s 0us/step\n",
      "Downloading data from https://storage.googleapis.com/tensorflow/tf-keras-datasets/t10k-labels-idx1-ubyte.gz\n",
      "16384/5148 [===============================================================================================] - 0s 0us/step\n",
      "Downloading data from https://storage.googleapis.com/tensorflow/tf-keras-datasets/t10k-images-idx3-ubyte.gz\n",
      "4423680/4422102 [==============================] - 0s 0us/step\n",
      "4431872/4422102 [==============================] - 0s 0us/step\n",
      "((array([[[0, 0, 0, ..., 0, 0, 0],\n",
      "        [0, 0, 0, ..., 0, 0, 0],\n",
      "        [0, 0, 0, ..., 0, 0, 0],\n",
      "        ...,\n",
      "        [0, 0, 0, ..., 0, 0, 0],\n",
      "        [0, 0, 0, ..., 0, 0, 0],\n",
      "        [0, 0, 0, ..., 0, 0, 0]],\n",
      "\n",
      "       [[0, 0, 0, ..., 0, 0, 0],\n",
      "        [0, 0, 0, ..., 0, 0, 0],\n",
      "        [0, 0, 0, ..., 0, 0, 0],\n",
      "        ...,\n",
      "        [0, 0, 0, ..., 0, 0, 0],\n",
      "        [0, 0, 0, ..., 0, 0, 0],\n",
      "        [0, 0, 0, ..., 0, 0, 0]],\n",
      "\n",
      "       [[0, 0, 0, ..., 0, 0, 0],\n",
      "        [0, 0, 0, ..., 0, 0, 0],\n",
      "        [0, 0, 0, ..., 0, 0, 0],\n",
      "        ...,\n",
      "        [0, 0, 0, ..., 0, 0, 0],\n",
      "        [0, 0, 0, ..., 0, 0, 0],\n",
      "        [0, 0, 0, ..., 0, 0, 0]],\n",
      "\n",
      "       ...,\n",
      "\n",
      "       [[0, 0, 0, ..., 0, 0, 0],\n",
      "        [0, 0, 0, ..., 0, 0, 0],\n",
      "        [0, 0, 0, ..., 0, 0, 0],\n",
      "        ...,\n",
      "        [0, 0, 0, ..., 0, 0, 0],\n",
      "        [0, 0, 0, ..., 0, 0, 0],\n",
      "        [0, 0, 0, ..., 0, 0, 0]],\n",
      "\n",
      "       [[0, 0, 0, ..., 0, 0, 0],\n",
      "        [0, 0, 0, ..., 0, 0, 0],\n",
      "        [0, 0, 0, ..., 0, 0, 0],\n",
      "        ...,\n",
      "        [0, 0, 0, ..., 0, 0, 0],\n",
      "        [0, 0, 0, ..., 0, 0, 0],\n",
      "        [0, 0, 0, ..., 0, 0, 0]],\n",
      "\n",
      "       [[0, 0, 0, ..., 0, 0, 0],\n",
      "        [0, 0, 0, ..., 0, 0, 0],\n",
      "        [0, 0, 0, ..., 0, 0, 0],\n",
      "        ...,\n",
      "        [0, 0, 0, ..., 0, 0, 0],\n",
      "        [0, 0, 0, ..., 0, 0, 0],\n",
      "        [0, 0, 0, ..., 0, 0, 0]]], dtype=uint8), array([9, 0, 0, ..., 3, 0, 5], dtype=uint8)), (array([[[0, 0, 0, ..., 0, 0, 0],\n",
      "        [0, 0, 0, ..., 0, 0, 0],\n",
      "        [0, 0, 0, ..., 0, 0, 0],\n",
      "        ...,\n",
      "        [0, 0, 0, ..., 0, 0, 0],\n",
      "        [0, 0, 0, ..., 0, 0, 0],\n",
      "        [0, 0, 0, ..., 0, 0, 0]],\n",
      "\n",
      "       [[0, 0, 0, ..., 0, 0, 0],\n",
      "        [0, 0, 0, ..., 0, 0, 0],\n",
      "        [0, 0, 0, ..., 0, 0, 0],\n",
      "        ...,\n",
      "        [0, 0, 0, ..., 0, 0, 0],\n",
      "        [0, 0, 0, ..., 0, 0, 0],\n",
      "        [0, 0, 0, ..., 0, 0, 0]],\n",
      "\n",
      "       [[0, 0, 0, ..., 0, 0, 0],\n",
      "        [0, 0, 0, ..., 0, 0, 0],\n",
      "        [0, 0, 0, ..., 0, 0, 0],\n",
      "        ...,\n",
      "        [0, 0, 0, ..., 0, 0, 0],\n",
      "        [0, 0, 0, ..., 0, 0, 0],\n",
      "        [0, 0, 0, ..., 0, 0, 0]],\n",
      "\n",
      "       ...,\n",
      "\n",
      "       [[0, 0, 0, ..., 0, 0, 0],\n",
      "        [0, 0, 0, ..., 0, 0, 0],\n",
      "        [0, 0, 0, ..., 0, 0, 0],\n",
      "        ...,\n",
      "        [0, 0, 0, ..., 0, 0, 0],\n",
      "        [0, 0, 0, ..., 0, 0, 0],\n",
      "        [0, 0, 0, ..., 0, 0, 0]],\n",
      "\n",
      "       [[0, 0, 0, ..., 0, 0, 0],\n",
      "        [0, 0, 0, ..., 0, 0, 0],\n",
      "        [0, 0, 0, ..., 0, 0, 0],\n",
      "        ...,\n",
      "        [0, 0, 0, ..., 0, 0, 0],\n",
      "        [0, 0, 0, ..., 0, 0, 0],\n",
      "        [0, 0, 0, ..., 0, 0, 0]],\n",
      "\n",
      "       [[0, 0, 0, ..., 0, 0, 0],\n",
      "        [0, 0, 0, ..., 0, 0, 0],\n",
      "        [0, 0, 0, ..., 0, 0, 0],\n",
      "        ...,\n",
      "        [0, 0, 0, ..., 0, 0, 0],\n",
      "        [0, 0, 0, ..., 0, 0, 0],\n",
      "        [0, 0, 0, ..., 0, 0, 0]]], dtype=uint8), array([9, 2, 1, ..., 8, 1, 5], dtype=uint8)))\n"
     ]
    }
   ],
   "source": [
    "#import data\n",
    "data=tf.keras.datasets.fashion_mnist.load_data()\n",
    "print(data)"
   ]
  },
  {
   "cell_type": "code",
   "execution_count": 4,
   "metadata": {
    "execution": {
     "iopub.execute_input": "2021-11-22T12:01:19.954251Z",
     "iopub.status.busy": "2021-11-22T12:01:19.953683Z",
     "iopub.status.idle": "2021-11-22T12:01:19.961304Z",
     "shell.execute_reply": "2021-11-22T12:01:19.960651Z",
     "shell.execute_reply.started": "2021-11-22T12:01:19.954212Z"
    }
   },
   "outputs": [],
   "source": [
    "#obtained from tensorflow website, labels of the y class\n",
    "class_names = ['T-shirt/top', 'Trouser', 'Pullover', 'Dress', 'Coat',\n",
    "               'Sandal', 'Shirt', 'Sneaker', 'Bag', 'Ankle boot']"
   ]
  },
  {
   "cell_type": "code",
   "execution_count": 5,
   "metadata": {
    "execution": {
     "iopub.execute_input": "2021-11-22T12:01:19.971535Z",
     "iopub.status.busy": "2021-11-22T12:01:19.968482Z",
     "iopub.status.idle": "2021-11-22T12:01:19.981200Z",
     "shell.execute_reply": "2021-11-22T12:01:19.980243Z",
     "shell.execute_reply.started": "2021-11-22T12:01:19.971497Z"
    },
    "scrolled": true
   },
   "outputs": [
    {
     "name": "stdout",
     "output_type": "stream",
     "text": [
      "Train: X=(60000, 28, 28), y=(60000,)\n",
      "Test: X=(10000, 28, 28), y=(10000,)\n"
     ]
    }
   ],
   "source": [
    "# load dataset\n",
    "(X_train, y_train), (X_test, y_test) = data\n",
    "print('Train: X=%s, y=%s' % (X_train.shape, y_train.shape))\n",
    "print('Test: X=%s, y=%s' % (X_test.shape, y_test.shape))\n"
   ]
  },
  {
   "cell_type": "code",
   "execution_count": 6,
   "metadata": {
    "execution": {
     "iopub.execute_input": "2021-11-22T12:01:19.982898Z",
     "iopub.status.busy": "2021-11-22T12:01:19.982644Z",
     "iopub.status.idle": "2021-11-22T12:01:21.157031Z",
     "shell.execute_reply": "2021-11-22T12:01:21.156355Z",
     "shell.execute_reply.started": "2021-11-22T12:01:19.982866Z"
    },
    "scrolled": true
   },
   "outputs": [
    {
     "data": {
      "image/png": "[encoded data removed]",
      "text/plain": [
       "<Figure size 720x720 with 25 Axes>"
      ]
     },
     "metadata": {},
     "output_type": "display_data"
    }
   ],
   "source": [
    "# plot first few images of train set\n",
    "plt.figure(figsize=(10,10))\n",
    "for i in range(25):\n",
    "    plt.subplot(5,5,i+1)\n",
    "    plt.xticks([])\n",
    "    plt.yticks([])\n",
    "    plt.grid(False)\n",
    "    plt.imshow(X_train[i], cmap=plt.cm.binary)\n",
    "    plt.xlabel(class_names[y_train[i]])\n",
    "plt.show()"
   ]
  },
  {
   "cell_type": "code",
   "execution_count": 7,
   "metadata": {
    "execution": {
     "iopub.execute_input": "2021-11-22T12:01:21.158414Z",
     "iopub.status.busy": "2021-11-22T12:01:21.158058Z",
     "iopub.status.idle": "2021-11-22T12:01:22.806149Z",
     "shell.execute_reply": "2021-11-22T12:01:22.805436Z",
     "shell.execute_reply.started": "2021-11-22T12:01:21.158381Z"
    }
   },
   "outputs": [
    {
     "name": "stdout",
     "output_type": "stream",
     "text": [
      "0 y_train:  6000\n",
      "1 y_train:  6000\n",
      "2 y_train:  6000\n",
      "3 y_train:  6000\n",
      "4 y_train:  6000\n",
      "5 y_train:  6000\n",
      "6 y_train:  6000\n",
      "7 y_train:  6000\n",
      "8 y_train:  6000\n",
      "9 y_train:  6000\n",
      "##########\n",
      "0 y_test:  1000\n",
      "1 y_test:  1000\n",
      "2 y_test:  1000\n",
      "3 y_test:  1000\n",
      "4 y_test:  1000\n",
      "5 y_test:  1000\n",
      "6 y_test:  1000\n",
      "7 y_test:  1000\n",
      "8 y_test:  1000\n",
      "9 y_test:  1000\n"
     ]
    }
   ],
   "source": [
    "#viewing the count of the classes, as a balanced count facilitates better model building\n",
    "import pandas as pd\n",
    "i=0\n",
    "for i in range(10):\n",
    "    print(i,'y_train: ', list(y_train).count(i))\n",
    "print('#'*10)\n",
    "i=0\n",
    "for i in range(10):\n",
    "    print(i,'y_test: ', list(y_test).count(i))"
   ]
  },
  {
   "cell_type": "markdown",
   "metadata": {},
   "source": [
    "## Converting lables"
   ]
  },
  {
   "cell_type": "code",
   "execution_count": 8,
   "metadata": {
    "execution": {
     "iopub.execute_input": "2021-11-22T12:01:22.807593Z",
     "iopub.status.busy": "2021-11-22T12:01:22.807343Z",
     "iopub.status.idle": "2021-11-22T12:01:23.287554Z",
     "shell.execute_reply": "2021-11-22T12:01:23.286764Z",
     "shell.execute_reply.started": "2021-11-22T12:01:22.807558Z"
    }
   },
   "outputs": [],
   "source": [
    "seed = 100\n",
    "np.random.seed(seed)\n",
    "\n",
    "# load data\n",
    "data=tf.keras.datasets.fashion_mnist.load_data()\n",
    "(X_train, y_train), (X_test, y_test) = data\n",
    "X_train = X_train.reshape(X_train.shape[0], 28, 28, 1).astype('float32')\n",
    "X_test = X_test.reshape(X_test.shape[0], 28, 28, 1).astype('float32')"
   ]
  },
  {
   "cell_type": "code",
   "execution_count": 9,
   "metadata": {
    "execution": {
     "iopub.execute_input": "2021-11-22T12:01:23.290087Z",
     "iopub.status.busy": "2021-11-22T12:01:23.289562Z",
     "iopub.status.idle": "2021-11-22T12:01:23.451032Z",
     "shell.execute_reply": "2021-11-22T12:01:23.450294Z",
     "shell.execute_reply.started": "2021-11-22T12:01:23.290046Z"
    }
   },
   "outputs": [],
   "source": [
    "# normalize inputs from 0-255 to 0-1\n",
    "from tensorflow.compat.v1.keras.utils import to_categorical\n",
    "X_train = X_train / 255\n",
    "X_test = X_test / 255\n",
    "# one hot encode outputs\n",
    "y_train = to_categorical(y_train)\n",
    "y_test = to_categorical(y_test)\n",
    "num_classes = y_test.shape[1]"
   ]
  },
  {
   "cell_type": "markdown",
   "metadata": {},
   "source": [
    "## Model building"
   ]
  },
  {
   "cell_type": "code",
   "execution_count": 10,
   "metadata": {
    "execution": {
     "iopub.execute_input": "2021-11-22T12:01:23.454545Z",
     "iopub.status.busy": "2021-11-22T12:01:23.454051Z",
     "iopub.status.idle": "2021-11-22T12:01:23.463053Z",
     "shell.execute_reply": "2021-11-22T12:01:23.462390Z",
     "shell.execute_reply.started": "2021-11-22T12:01:23.454509Z"
    }
   },
   "outputs": [],
   "source": [
    "from tensorflow.keras.datasets import mnist\n",
    "from tensorflow.keras.models import Sequential\n",
    "from tensorflow.keras.layers import Dense\n",
    "from tensorflow.keras.layers import Dropout\n",
    "from tensorflow.keras.layers import Flatten\n",
    "from tensorflow.keras.layers import Conv2D\n",
    "from tensorflow.keras.layers import MaxPooling2D"
   ]
  },
  {
   "cell_type": "code",
   "execution_count": 11,
   "metadata": {
    "execution": {
     "iopub.execute_input": "2021-11-22T12:01:23.465014Z",
     "iopub.status.busy": "2021-11-22T12:01:23.464585Z",
     "iopub.status.idle": "2021-11-22T12:02:09.146470Z",
     "shell.execute_reply": "2021-11-22T12:02:09.144896Z",
     "shell.execute_reply.started": "2021-11-22T12:01:23.464977Z"
    },
    "scrolled": true
   },
   "outputs": [
    {
     "name": "stderr",
     "output_type": "stream",
     "text": [
      "2021-11-22 12:01:23.544816: I tensorflow/stream_executor/cuda/cuda_gpu_executor.cc:937] successful NUMA node read from SysFS had negative value (-1), but there must be at least one NUMA node, so returning NUMA node zero\n",
      "2021-11-22 12:01:23.658985: I tensorflow/stream_executor/cuda/cuda_gpu_executor.cc:937] successful NUMA node read from SysFS had negative value (-1), but there must be at least one NUMA node, so returning NUMA node zero\n",
      "2021-11-22 12:01:23.659745: I tensorflow/stream_executor/cuda/cuda_gpu_executor.cc:937] successful NUMA node read from SysFS had negative value (-1), but there must be at least one NUMA node, so returning NUMA node zero\n",
      "2021-11-22 12:01:23.660854: I tensorflow/core/platform/cpu_feature_guard.cc:142] This TensorFlow binary is optimized with oneAPI Deep Neural Network Library (oneDNN) to use the following CPU instructions in performance-critical operations:  AVX2 AVX512F FMA\n",
      "To enable them in other operations, rebuild TensorFlow with the appropriate compiler flags.\n",
      "2021-11-22 12:01:23.661981: I tensorflow/stream_executor/cuda/cuda_gpu_executor.cc:937] successful NUMA node read from SysFS had negative value (-1), but there must be at least one NUMA node, so returning NUMA node zero\n",
      "2021-11-22 12:01:23.662627: I tensorflow/stream_executor/cuda/cuda_gpu_executor.cc:937] successful NUMA node read from SysFS had negative value (-1), but there must be at least one NUMA node, so returning NUMA node zero\n",
      "2021-11-22 12:01:23.663206: I tensorflow/stream_executor/cuda/cuda_gpu_executor.cc:937] successful NUMA node read from SysFS had negative value (-1), but there must be at least one NUMA node, so returning NUMA node zero\n",
      "2021-11-22 12:01:25.536642: I tensorflow/stream_executor/cuda/cuda_gpu_executor.cc:937] successful NUMA node read from SysFS had negative value (-1), but there must be at least one NUMA node, so returning NUMA node zero\n",
      "2021-11-22 12:01:25.537418: I tensorflow/stream_executor/cuda/cuda_gpu_executor.cc:937] successful NUMA node read from SysFS had negative value (-1), but there must be at least one NUMA node, so returning NUMA node zero\n",
      "2021-11-22 12:01:25.538109: I tensorflow/stream_executor/cuda/cuda_gpu_executor.cc:937] successful NUMA node read from SysFS had negative value (-1), but there must be at least one NUMA node, so returning NUMA node zero\n",
      "2021-11-22 12:01:25.538741: I tensorflow/core/common_runtime/gpu/gpu_device.cc:1510] Created device /job:localhost/replica:0/task:0/device:GPU:0 with 15403 MB memory:  -> device: 0, name: Tesla P100-PCIE-16GB, pci bus id: 0000:00:04.0, compute capability: 6.0\n",
      "2021-11-22 12:01:26.257116: I tensorflow/compiler/mlir/mlir_graph_optimization_pass.cc:185] None of the MLIR Optimization Passes are enabled (registered 2)\n"
     ]
    },
    {
     "name": "stdout",
     "output_type": "stream",
     "text": [
      "Epoch 1/20\n"
     ]
    },
    {
     "name": "stderr",
     "output_type": "stream",
     "text": [
      "2021-11-22 12:01:27.441491: I tensorflow/stream_executor/cuda/cuda_dnn.cc:369] Loaded cuDNN version 8005\n"
     ]
    },
    {
     "name": "stdout",
     "output_type": "stream",
     "text": [
      "240/240 - 7s - loss: 0.7826 - accuracy: 0.7148 - val_loss: 0.4917 - val_accuracy: 0.8201\n",
      "Epoch 2/20\n",
      "240/240 - 1s - loss: 0.4897 - accuracy: 0.8217 - val_loss: 0.4201 - val_accuracy: 0.8503\n",
      "Epoch 3/20\n",
      "240/240 - 1s - loss: 0.4330 - accuracy: 0.8428 - val_loss: 0.3706 - val_accuracy: 0.8672\n",
      "Epoch 4/20\n",
      "240/240 - 1s - loss: 0.3910 - accuracy: 0.8577 - val_loss: 0.3517 - val_accuracy: 0.8748\n",
      "Epoch 5/20\n",
      "240/240 - 1s - loss: 0.3654 - accuracy: 0.8654 - val_loss: 0.3402 - val_accuracy: 0.8747\n",
      "Epoch 6/20\n",
      "240/240 - 1s - loss: 0.3461 - accuracy: 0.8745 - val_loss: 0.3183 - val_accuracy: 0.8868\n",
      "Epoch 7/20\n",
      "240/240 - 1s - loss: 0.3304 - accuracy: 0.8793 - val_loss: 0.3006 - val_accuracy: 0.8894\n",
      "Epoch 8/20\n",
      "240/240 - 1s - loss: 0.3155 - accuracy: 0.8832 - val_loss: 0.2911 - val_accuracy: 0.8924\n",
      "Epoch 9/20\n",
      "240/240 - 1s - loss: 0.3065 - accuracy: 0.8867 - val_loss: 0.3034 - val_accuracy: 0.8860\n",
      "Epoch 10/20\n",
      "240/240 - 1s - loss: 0.2991 - accuracy: 0.8885 - val_loss: 0.2774 - val_accuracy: 0.9002\n",
      "Epoch 11/20\n",
      "240/240 - 1s - loss: 0.2916 - accuracy: 0.8920 - val_loss: 0.2774 - val_accuracy: 0.8982\n",
      "Epoch 12/20\n",
      "240/240 - 1s - loss: 0.2810 - accuracy: 0.8947 - val_loss: 0.2827 - val_accuracy: 0.8969\n",
      "Epoch 13/20\n",
      "240/240 - 1s - loss: 0.2768 - accuracy: 0.8975 - val_loss: 0.2632 - val_accuracy: 0.9027\n",
      "Epoch 14/20\n",
      "240/240 - 1s - loss: 0.2685 - accuracy: 0.8994 - val_loss: 0.2655 - val_accuracy: 0.9022\n",
      "Epoch 15/20\n",
      "240/240 - 1s - loss: 0.2613 - accuracy: 0.9026 - val_loss: 0.2623 - val_accuracy: 0.9027\n",
      "Epoch 16/20\n",
      "240/240 - 1s - loss: 0.2598 - accuracy: 0.9064 - val_loss: 0.2572 - val_accuracy: 0.9014\n",
      "Epoch 17/20\n",
      "240/240 - 1s - loss: 0.2506 - accuracy: 0.9060 - val_loss: 0.2487 - val_accuracy: 0.9078\n",
      "Epoch 18/20\n",
      "240/240 - 1s - loss: 0.2497 - accuracy: 0.9075 - val_loss: 0.2493 - val_accuracy: 0.9096\n",
      "Epoch 19/20\n",
      "240/240 - 1s - loss: 0.2415 - accuracy: 0.9109 - val_loss: 0.2468 - val_accuracy: 0.9100\n",
      "Epoch 20/20\n",
      "240/240 - 1s - loss: 0.2387 - accuracy: 0.9117 - val_loss: 0.2468 - val_accuracy: 0.9093\n",
      "CNN Error: 9.82%\n"
     ]
    }
   ],
   "source": [
    "# build the model\n",
    "# create model\n",
    "model = Sequential()\n",
    "model.add(Conv2D(32, (5, 5), input_shape=(28, 28, 1), activation='relu'))\n",
    "model.add(MaxPooling2D(pool_size=(2, 2)))\n",
    "model.add(Conv2D(16, (3, 3), activation='relu'))\n",
    "model.add(MaxPooling2D(pool_size=(2, 2)))\n",
    "model.add(Dropout(0.3))\n",
    "model.add(Flatten())\n",
    "model.add(Dense(128, activation='relu'))\n",
    "model.add(Dense(64, activation='relu'))\n",
    "model.add(Dense(num_classes, activation='softmax'))\n",
    "# Compile model\n",
    "model.compile(loss='categorical_crossentropy', \n",
    "              optimizer='adam', metrics=['accuracy'])\n",
    "\n",
    "\n",
    "\n",
    "# Fit the model\n",
    "history=model.fit(X_train, y_train, validation_split=0.2, \n",
    "          epochs=20, batch_size=200, verbose=2)\n",
    "# Final evaluation of the model\n",
    "scores = model.evaluate(X_test, y_test, verbose=0)\n",
    "print(\"CNN Error: %.2f%%\" % (100-scores[1]*100))\n"
   ]
  },
  {
   "cell_type": "markdown",
   "metadata": {},
   "source": [
    "Model is fairly accurate, error of 9.82 is considered decent"
   ]
  },
  {
   "cell_type": "markdown",
   "metadata": {},
   "source": [
    "Viewing of classification report\n",
    "Precision is decent for for all classes. "
   ]
  },
  {
   "cell_type": "code",
   "execution_count": 12,
   "metadata": {
    "execution": {
     "iopub.execute_input": "2021-11-22T12:02:09.148708Z",
     "iopub.status.busy": "2021-11-22T12:02:09.148160Z",
     "iopub.status.idle": "2021-11-22T12:02:10.482577Z",
     "shell.execute_reply": "2021-11-22T12:02:10.480937Z",
     "shell.execute_reply.started": "2021-11-22T12:02:09.148659Z"
    }
   },
   "outputs": [
    {
     "name": "stdout",
     "output_type": "stream",
     "text": [
      "              precision    recall  f1-score   support\n",
      "\n",
      " T-shirt/top       0.90      0.77      0.83      1000\n",
      "     Trouser       1.00      0.98      0.99      1000\n",
      "    Pullover       0.86      0.85      0.86      1000\n",
      "       Dress       0.92      0.90      0.91      1000\n",
      "        Coat       0.79      0.89      0.84      1000\n",
      "      Sandal       0.98      0.98      0.98      1000\n",
      "       Shirt       0.69      0.74      0.72      1000\n",
      "     Sneaker       0.94      0.98      0.96      1000\n",
      "         Bag       0.97      0.98      0.98      1000\n",
      "  Ankle boot       0.98      0.95      0.97      1000\n",
      "\n",
      "    accuracy                           0.90     10000\n",
      "   macro avg       0.90      0.90      0.90     10000\n",
      "weighted avg       0.90      0.90      0.90     10000\n",
      "\n"
     ]
    }
   ],
   "source": [
    "from sklearn.metrics import classification_report\n",
    "\n",
    "predictedL = np.argmax(model.predict(X_test), axis=1)\n",
    "actualL = np.argmax(y_test, axis=1)\n",
    "print(classification_report(actualL, predictedL, target_names=class_names))"
   ]
  },
  {
   "cell_type": "markdown",
   "metadata": {},
   "source": [
    "Convergence has been met. Changes to model may be necessary to improve error rate"
   ]
  },
  {
   "cell_type": "code",
   "execution_count": 13,
   "metadata": {
    "execution": {
     "iopub.execute_input": "2021-11-22T12:02:10.484317Z",
     "iopub.status.busy": "2021-11-22T12:02:10.484055Z",
     "iopub.status.idle": "2021-11-22T12:02:10.931636Z",
     "shell.execute_reply": "2021-11-22T12:02:10.930951Z",
     "shell.execute_reply.started": "2021-11-22T12:02:10.484283Z"
    }
   },
   "outputs": [
    {
     "data": {
      "image/png": "[encoded data removed]",
      "text/plain": [
       "<Figure size 432x288 with 1 Axes>"
      ]
     },
     "metadata": {
      "needs_background": "light"
     },
     "output_type": "display_data"
    },
    {
     "data": {
      "text/plain": [
       "<matplotlib.legend.Legend at 0x7f35808da8d0>"
      ]
     },
     "execution_count": 13,
     "metadata": {},
     "output_type": "execute_result"
    },
    {
     "data": {
      "image/png": "[encoded data removed]",
      "text/plain": [
       "<Figure size 432x288 with 1 Axes>"
      ]
     },
     "metadata": {
      "needs_background": "light"
     },
     "output_type": "display_data"
    }
   ],
   "source": [
    "plt.plot(history.history['accuracy'], label='Train Set')\n",
    "plt.plot(history.history['val_accuracy'], label='Test Set')\n",
    "plt.legend()\n",
    "plt.show()\n",
    "plt.plot(history.history['loss'], label='Train Set')\n",
    "plt.plot(history.history['val_loss'], label='Test Set')\n",
    "plt.legend()"
   ]
  },
  {
   "cell_type": "markdown",
   "metadata": {},
   "source": [
    "# Modified complex cnn\n",
    "# Model 2"
   ]
  },
  {
   "cell_type": "code",
   "execution_count": 15,
   "metadata": {
    "execution": {
     "iopub.execute_input": "2021-11-22T12:02:10.938959Z",
     "iopub.status.busy": "2021-11-22T12:02:10.938657Z",
     "iopub.status.idle": "2021-11-22T12:02:36.332129Z",
     "shell.execute_reply": "2021-11-22T12:02:36.331375Z",
     "shell.execute_reply.started": "2021-11-22T12:02:10.938892Z"
    },
    "scrolled": true
   },
   "outputs": [
    {
     "name": "stdout",
     "output_type": "stream",
     "text": [
      "Epoch 1/20\n",
      "240/240 - 2s - loss: 0.4633 - accuracy: 0.8399 - val_loss: 2.1535 - val_accuracy: 0.3630\n",
      "Epoch 2/20\n",
      "240/240 - 1s - loss: 0.2918 - accuracy: 0.8934 - val_loss: 0.4119 - val_accuracy: 0.8654\n",
      "Epoch 3/20\n",
      "240/240 - 1s - loss: 0.2441 - accuracy: 0.9099 - val_loss: 0.2722 - val_accuracy: 0.9021\n",
      "Epoch 4/20\n",
      "240/240 - 1s - loss: 0.2156 - accuracy: 0.9207 - val_loss: 0.2985 - val_accuracy: 0.8950\n",
      "Epoch 5/20\n",
      "240/240 - 1s - loss: 0.1971 - accuracy: 0.9276 - val_loss: 0.2550 - val_accuracy: 0.9063\n",
      "Epoch 6/20\n",
      "240/240 - 1s - loss: 0.1756 - accuracy: 0.9355 - val_loss: 0.2469 - val_accuracy: 0.9118\n",
      "Epoch 7/20\n",
      "240/240 - 1s - loss: 0.1641 - accuracy: 0.9392 - val_loss: 0.2473 - val_accuracy: 0.9104\n",
      "Epoch 8/20\n",
      "240/240 - 1s - loss: 0.1472 - accuracy: 0.9455 - val_loss: 0.2373 - val_accuracy: 0.9147\n",
      "Epoch 9/20\n",
      "240/240 - 1s - loss: 0.1365 - accuracy: 0.9484 - val_loss: 0.2425 - val_accuracy: 0.9145\n",
      "Epoch 10/20\n",
      "240/240 - 1s - loss: 0.1204 - accuracy: 0.9548 - val_loss: 0.2724 - val_accuracy: 0.9073\n",
      "Epoch 11/20\n",
      "240/240 - 1s - loss: 0.1161 - accuracy: 0.9571 - val_loss: 0.2555 - val_accuracy: 0.9129\n",
      "Epoch 12/20\n",
      "240/240 - 1s - loss: 0.1024 - accuracy: 0.9621 - val_loss: 0.2652 - val_accuracy: 0.9148\n",
      "Epoch 13/20\n",
      "240/240 - 1s - loss: 0.0974 - accuracy: 0.9640 - val_loss: 0.2878 - val_accuracy: 0.9097\n",
      "Epoch 14/20\n",
      "240/240 - 1s - loss: 0.0920 - accuracy: 0.9654 - val_loss: 0.3307 - val_accuracy: 0.8997\n",
      "Epoch 15/20\n",
      "240/240 - 1s - loss: 0.0779 - accuracy: 0.9715 - val_loss: 0.3662 - val_accuracy: 0.8903\n",
      "Epoch 16/20\n",
      "240/240 - 1s - loss: 0.0756 - accuracy: 0.9717 - val_loss: 0.2853 - val_accuracy: 0.9106\n",
      "Epoch 17/20\n",
      "240/240 - 1s - loss: 0.0742 - accuracy: 0.9725 - val_loss: 0.2945 - val_accuracy: 0.9131\n",
      "Epoch 18/20\n",
      "240/240 - 1s - loss: 0.0654 - accuracy: 0.9760 - val_loss: 0.2943 - val_accuracy: 0.9148\n",
      "Epoch 19/20\n",
      "240/240 - 1s - loss: 0.0646 - accuracy: 0.9761 - val_loss: 0.3102 - val_accuracy: 0.9115\n",
      "Epoch 20/20\n",
      "240/240 - 1s - loss: 0.0610 - accuracy: 0.9772 - val_loss: 0.3088 - val_accuracy: 0.9166\n",
      "CNN Error: 8.71%\n"
     ]
    }
   ],
   "source": [
    "# build the model\n",
    "# create model\n",
    "from tensorflow.keras.layers import BatchNormalization\n",
    "model = Sequential()\n",
    "model.add(Conv2D(32, (5, 5), input_shape=(28, 28, 1), activation='relu'))\n",
    "model.add(BatchNormalization())\n",
    "model.add(MaxPooling2D(pool_size=(2, 2)))\n",
    "model.add(BatchNormalization())\n",
    "model.add(Conv2D(64, (3, 3), activation='relu'))\n",
    "model.add(BatchNormalization())\n",
    "model.add(MaxPooling2D(pool_size=(2, 2)))\n",
    "model.add(BatchNormalization())\n",
    "model.add(Dropout(0.2))\n",
    "model.add(Flatten())\n",
    "model.add(BatchNormalization())\n",
    "model.add(Dense(128, activation='relu'))\n",
    "model.add(BatchNormalization())\n",
    "model.add(Dense(50, activation='relu'))\n",
    "model.add(BatchNormalization())\n",
    "model.add(Dense(num_classes, activation='softmax'))\n",
    "# Compile model\n",
    "model.compile(loss='categorical_crossentropy', \n",
    "              optimizer='adam', metrics=['accuracy'])\n",
    "\n",
    "\n",
    "\n",
    "# Fit the model\n",
    "history=model.fit(X_train, y_train,  validation_split=0.2, \n",
    "          epochs=20, batch_size=200, verbose=2)\n",
    "# Final evaluation of the model\n",
    "scores = model.evaluate(X_test, y_test, verbose=0)\n",
    "print(\"CNN Error: %.2f%%\" % (100-scores[1]*100))\n"
   ]
  },
  {
   "cell_type": "markdown",
   "metadata": {},
   "source": [
    "Better accuracy and a more balanced Precision"
   ]
  },
  {
   "cell_type": "code",
   "execution_count": 16,
   "metadata": {
    "execution": {
     "iopub.execute_input": "2021-11-22T12:02:36.333978Z",
     "iopub.status.busy": "2021-11-22T12:02:36.333545Z",
     "iopub.status.idle": "2021-11-22T12:02:37.204039Z",
     "shell.execute_reply": "2021-11-22T12:02:37.203283Z",
     "shell.execute_reply.started": "2021-11-22T12:02:36.333941Z"
    }
   },
   "outputs": [
    {
     "name": "stdout",
     "output_type": "stream",
     "text": [
      "              precision    recall  f1-score   support\n",
      "\n",
      " T-shirt/top       0.84      0.88      0.86      1000\n",
      "     Trouser       0.99      0.98      0.99      1000\n",
      "    Pullover       0.90      0.86      0.88      1000\n",
      "       Dress       0.93      0.91      0.92      1000\n",
      "        Coat       0.80      0.92      0.86      1000\n",
      "      Sandal       0.99      0.97      0.98      1000\n",
      "       Shirt       0.79      0.70      0.74      1000\n",
      "     Sneaker       0.92      0.98      0.95      1000\n",
      "         Bag       0.99      0.98      0.98      1000\n",
      "  Ankle boot       0.98      0.94      0.96      1000\n",
      "\n",
      "    accuracy                           0.91     10000\n",
      "   macro avg       0.91      0.91      0.91     10000\n",
      "weighted avg       0.91      0.91      0.91     10000\n",
      "\n"
     ]
    }
   ],
   "source": [
    "predictedL = np.argmax(model.predict(X_test), axis=1)\n",
    "actualL = np.argmax(y_test, axis=1)\n",
    "print(classification_report(actualL, predictedL, target_names=class_names))"
   ]
  },
  {
   "cell_type": "markdown",
   "metadata": {},
   "source": [
    "Plots do not show obvious overfitting"
   ]
  },
  {
   "cell_type": "code",
   "execution_count": 17,
   "metadata": {
    "execution": {
     "iopub.execute_input": "2021-11-22T12:02:37.205804Z",
     "iopub.status.busy": "2021-11-22T12:02:37.205397Z",
     "iopub.status.idle": "2021-11-22T12:02:37.649672Z",
     "shell.execute_reply": "2021-11-22T12:02:37.649023Z",
     "shell.execute_reply.started": "2021-11-22T12:02:37.205767Z"
    }
   },
   "outputs": [
    {
     "data": {
      "image/png": "[encoded data removed]",
      "text/plain": [
       "<Figure size 432x288 with 1 Axes>"
      ]
     },
     "metadata": {
      "needs_background": "light"
     },
     "output_type": "display_data"
    },
    {
     "data": {
      "text/plain": [
       "<matplotlib.legend.Legend at 0x7f3607583f90>"
      ]
     },
     "execution_count": 17,
     "metadata": {},
     "output_type": "execute_result"
    },
    {
     "data": {
      "image/png": "[encoded data removed]",
      "text/plain": [
       "<Figure size 432x288 with 1 Axes>"
      ]
     },
     "metadata": {
      "needs_background": "light"
     },
     "output_type": "display_data"
    }
   ],
   "source": [
    "plt.plot(history.history['accuracy'], label='Train Set')\n",
    "plt.plot(history.history['val_accuracy'], label='Test Set')\n",
    "plt.legend()\n",
    "plt.show()\n",
    "plt.plot(history.history['loss'], label='Train Set')\n",
    "plt.plot(history.history['val_loss'], label='Test Set')\n",
    "plt.legend()"
   ]
  },
  {
   "cell_type": "markdown",
   "metadata": {},
   "source": [
    "# Model 3"
   ]
  },
  {
   "cell_type": "code",
   "execution_count": 19,
   "metadata": {
    "execution": {
     "iopub.execute_input": "2021-11-22T12:02:37.657130Z",
     "iopub.status.busy": "2021-11-22T12:02:37.656334Z",
     "iopub.status.idle": "2021-11-22T12:02:59.732128Z",
     "shell.execute_reply": "2021-11-22T12:02:59.731302Z",
     "shell.execute_reply.started": "2021-11-22T12:02:37.657088Z"
    },
    "scrolled": true
   },
   "outputs": [
    {
     "name": "stdout",
     "output_type": "stream",
     "text": [
      "Epoch 1/35\n",
      "240/240 - 1s - loss: 0.0531 - accuracy: 0.9805 - val_loss: 0.2927 - val_accuracy: 0.9166\n",
      "Epoch 2/35\n",
      "240/240 - 1s - loss: 0.0519 - accuracy: 0.9811 - val_loss: 0.3468 - val_accuracy: 0.9084\n",
      "Epoch 3/35\n",
      "240/240 - 1s - loss: 0.0483 - accuracy: 0.9822 - val_loss: 0.3261 - val_accuracy: 0.9162\n",
      "Epoch 4/35\n",
      "240/240 - 1s - loss: 0.0453 - accuracy: 0.9832 - val_loss: 0.3262 - val_accuracy: 0.9147\n",
      "Epoch 5/35\n",
      "240/240 - 1s - loss: 0.0459 - accuracy: 0.9829 - val_loss: 0.4311 - val_accuracy: 0.8947\n",
      "Epoch 6/35\n",
      "240/240 - 1s - loss: 0.0437 - accuracy: 0.9834 - val_loss: 0.3613 - val_accuracy: 0.9158\n",
      "Epoch 7/35\n",
      "240/240 - 1s - loss: 0.0438 - accuracy: 0.9833 - val_loss: 0.3355 - val_accuracy: 0.9179\n",
      "Epoch 8/35\n",
      "240/240 - 1s - loss: 0.0383 - accuracy: 0.9863 - val_loss: 0.3485 - val_accuracy: 0.9177\n",
      "Epoch 9/35\n",
      "240/240 - 1s - loss: 0.0426 - accuracy: 0.9841 - val_loss: 0.3767 - val_accuracy: 0.9100\n",
      "Epoch 10/35\n",
      "240/240 - 1s - loss: 0.0373 - accuracy: 0.9868 - val_loss: 0.3612 - val_accuracy: 0.9145\n",
      "Epoch 11/35\n",
      "240/240 - 1s - loss: 0.0348 - accuracy: 0.9877 - val_loss: 0.3451 - val_accuracy: 0.9201\n",
      "Epoch 12/35\n",
      "240/240 - 1s - loss: 0.0319 - accuracy: 0.9882 - val_loss: 0.3431 - val_accuracy: 0.9174\n",
      "Epoch 13/35\n",
      "240/240 - 1s - loss: 0.0350 - accuracy: 0.9872 - val_loss: 0.3545 - val_accuracy: 0.9183\n",
      "Epoch 14/35\n",
      "240/240 - 1s - loss: 0.0330 - accuracy: 0.9879 - val_loss: 0.3530 - val_accuracy: 0.9197\n",
      "Epoch 15/35\n",
      "240/240 - 1s - loss: 0.0331 - accuracy: 0.9882 - val_loss: 0.3610 - val_accuracy: 0.9188\n",
      "CNN Error: 8.52%\n"
     ]
    }
   ],
   "source": [
    "# Fit the model\n",
    "callback = tf.keras.callbacks.EarlyStopping(monitor='loss', patience=3)\n",
    "history=model.fit(X_train, y_train, validation_split=0.2, \n",
    "          epochs=35, batch_size=200, verbose=2,callbacks=[callback])\n",
    "# Final evaluation of the model\n",
    "scores = model.evaluate(X_test, y_test, verbose=0)\n",
    "print(\"CNN Error: %.2f%%\" % (100-scores[1]*100))"
   ]
  },
  {
   "cell_type": "markdown",
   "metadata": {},
   "source": [
    "Marginally better accuracy, shirt precision is not ideal. Model can be further improved. \n",
    "Tests with othe roptimizers will be implemmented"
   ]
  },
  {
   "cell_type": "code",
   "execution_count": 20,
   "metadata": {
    "execution": {
     "iopub.execute_input": "2021-11-22T12:02:59.733891Z",
     "iopub.status.busy": "2021-11-22T12:02:59.733618Z",
     "iopub.status.idle": "2021-11-22T12:03:00.455077Z",
     "shell.execute_reply": "2021-11-22T12:03:00.454323Z",
     "shell.execute_reply.started": "2021-11-22T12:02:59.733857Z"
    }
   },
   "outputs": [
    {
     "name": "stdout",
     "output_type": "stream",
     "text": [
      "              precision    recall  f1-score   support\n",
      "\n",
      " T-shirt/top       0.89      0.84      0.87      1000\n",
      "     Trouser       1.00      0.98      0.99      1000\n",
      "    Pullover       0.89      0.85      0.87      1000\n",
      "       Dress       0.89      0.93      0.91      1000\n",
      "        Coat       0.85      0.88      0.86      1000\n",
      "      Sandal       0.98      0.98      0.98      1000\n",
      "       Shirt       0.75      0.78      0.77      1000\n",
      "     Sneaker       0.96      0.96      0.96      1000\n",
      "         Bag       0.98      0.99      0.98      1000\n",
      "  Ankle boot       0.97      0.96      0.97      1000\n",
      "\n",
      "    accuracy                           0.91     10000\n",
      "   macro avg       0.92      0.91      0.91     10000\n",
      "weighted avg       0.92      0.91      0.91     10000\n",
      "\n"
     ]
    }
   ],
   "source": [
    "predictedL = np.argmax(model.predict(X_test), axis=1)\n",
    "actualL = np.argmax(y_test, axis=1)\n",
    "print(classification_report(actualL, predictedL, target_names=class_names))"
   ]
  },
  {
   "cell_type": "markdown",
   "metadata": {},
   "source": [
    "Shapes of plots are unusual, implying that both train and fit models are quite accurate form the first epoch\n",
    "Possible final model to consider"
   ]
  },
  {
   "cell_type": "code",
   "execution_count": 21,
   "metadata": {
    "execution": {
     "iopub.execute_input": "2021-11-22T12:03:00.456686Z",
     "iopub.status.busy": "2021-11-22T12:03:00.456426Z",
     "iopub.status.idle": "2021-11-22T12:03:00.913085Z",
     "shell.execute_reply": "2021-11-22T12:03:00.912423Z",
     "shell.execute_reply.started": "2021-11-22T12:03:00.456651Z"
    }
   },
   "outputs": [
    {
     "data": {
      "image/png": "[encoded data removed]",
      "text/plain": [
       "<Figure size 432x288 with 1 Axes>"
      ]
     },
     "metadata": {
      "needs_background": "light"
     },
     "output_type": "display_data"
    },
    {
     "data": {
      "text/plain": [
       "<matplotlib.legend.Legend at 0x7f36079c1290>"
      ]
     },
     "execution_count": 21,
     "metadata": {},
     "output_type": "execute_result"
    },
    {
     "data": {
      "image/png": "[encoded data removed]",
      "text/plain": [
       "<Figure size 432x288 with 1 Axes>"
      ]
     },
     "metadata": {
      "needs_background": "light"
     },
     "output_type": "display_data"
    }
   ],
   "source": [
    "plt.plot(history.history['accuracy'], label='Train Set')\n",
    "plt.plot(history.history['val_accuracy'], label='Test Set')\n",
    "plt.legend()\n",
    "plt.show()\n",
    "plt.plot(history.history['loss'], label='Train Set')\n",
    "plt.plot(history.history['val_loss'], label='Test Set')\n",
    "plt.legend()"
   ]
  },
  {
   "cell_type": "markdown",
   "metadata": {},
   "source": [
    "# Model 4"
   ]
  },
  {
   "cell_type": "code",
   "execution_count": 24,
   "metadata": {
    "execution": {
     "iopub.execute_input": "2021-11-22T12:03:00.936494Z",
     "iopub.status.busy": "2021-11-22T12:03:00.935959Z",
     "iopub.status.idle": "2021-11-22T12:03:44.582350Z",
     "shell.execute_reply": "2021-11-22T12:03:44.581660Z",
     "shell.execute_reply.started": "2021-11-22T12:03:00.936456Z"
    },
    "scrolled": true
   },
   "outputs": [
    {
     "name": "stdout",
     "output_type": "stream",
     "text": [
      "Epoch 1/20\n",
      "240/240 - 2s - loss: 0.9617 - accuracy: 0.7002 - val_loss: 2.3080 - val_accuracy: 0.2672\n",
      "Epoch 2/20\n",
      "240/240 - 1s - loss: 0.5884 - accuracy: 0.8078 - val_loss: 0.9707 - val_accuracy: 0.6985\n",
      "Epoch 3/20\n",
      "240/240 - 1s - loss: 0.4985 - accuracy: 0.8322 - val_loss: 0.4472 - val_accuracy: 0.8522\n",
      "Epoch 4/20\n",
      "240/240 - 1s - loss: 0.4459 - accuracy: 0.8482 - val_loss: 0.3903 - val_accuracy: 0.8628\n",
      "Epoch 5/20\n",
      "240/240 - 1s - loss: 0.4098 - accuracy: 0.8585 - val_loss: 0.3712 - val_accuracy: 0.8717\n",
      "Epoch 6/20\n",
      "240/240 - 1s - loss: 0.3863 - accuracy: 0.8654 - val_loss: 0.3488 - val_accuracy: 0.8783\n",
      "Epoch 7/20\n",
      "240/240 - 1s - loss: 0.3683 - accuracy: 0.8690 - val_loss: 0.3389 - val_accuracy: 0.8792\n",
      "Epoch 8/20\n",
      "240/240 - 1s - loss: 0.3496 - accuracy: 0.8767 - val_loss: 0.3348 - val_accuracy: 0.8788\n",
      "Epoch 9/20\n",
      "240/240 - 1s - loss: 0.3410 - accuracy: 0.8793 - val_loss: 0.3731 - val_accuracy: 0.8646\n",
      "Epoch 10/20\n",
      "240/240 - 1s - loss: 0.3281 - accuracy: 0.8834 - val_loss: 0.3185 - val_accuracy: 0.8856\n",
      "Epoch 11/20\n",
      "240/240 - 1s - loss: 0.3177 - accuracy: 0.8855 - val_loss: 0.3075 - val_accuracy: 0.8898\n",
      "Epoch 12/20\n",
      "240/240 - 1s - loss: 0.3088 - accuracy: 0.8903 - val_loss: 0.3224 - val_accuracy: 0.8822\n",
      "Epoch 13/20\n",
      "240/240 - 1s - loss: 0.3023 - accuracy: 0.8929 - val_loss: 0.2999 - val_accuracy: 0.8909\n",
      "Epoch 14/20\n",
      "240/240 - 1s - loss: 0.2980 - accuracy: 0.8933 - val_loss: 0.3148 - val_accuracy: 0.8866\n",
      "Epoch 15/20\n",
      "240/240 - 1s - loss: 0.2932 - accuracy: 0.8954 - val_loss: 0.3088 - val_accuracy: 0.8873\n",
      "Epoch 16/20\n",
      "240/240 - 1s - loss: 0.2867 - accuracy: 0.8963 - val_loss: 0.3731 - val_accuracy: 0.8600\n",
      "Epoch 17/20\n",
      "240/240 - 1s - loss: 0.2810 - accuracy: 0.8984 - val_loss: 0.2854 - val_accuracy: 0.8974\n",
      "Epoch 18/20\n",
      "240/240 - 1s - loss: 0.2771 - accuracy: 0.8993 - val_loss: 0.2814 - val_accuracy: 0.8969\n",
      "Epoch 19/20\n",
      "240/240 - 1s - loss: 0.2731 - accuracy: 0.9015 - val_loss: 0.2977 - val_accuracy: 0.8938\n",
      "Epoch 20/20\n",
      "240/240 - 1s - loss: 0.2676 - accuracy: 0.9040 - val_loss: 0.2860 - val_accuracy: 0.8952\n",
      "CNN Error: 10.61%\n"
     ]
    }
   ],
   "source": [
    "# build the model\n",
    "# create model\n",
    "from tensorflow.keras.layers import BatchNormalization\n",
    "model = Sequential()\n",
    "model.add(Conv2D(32, (3, 3), input_shape=(28, 28, 1), activation='relu'))\n",
    "model.add(BatchNormalization())\n",
    "model.add(MaxPooling2D(pool_size=(2, 2)))\n",
    "model.add(BatchNormalization())\n",
    "model.add(Conv2D(64, (3, 3), activation='relu'))\n",
    "model.add(BatchNormalization())\n",
    "model.add(MaxPooling2D(pool_size=(2, 2)))\n",
    "model.add(BatchNormalization())\n",
    "model.add(Dropout(0.3))\n",
    "model.add(BatchNormalization())\n",
    "model.add(Flatten())\n",
    "model.add(BatchNormalization())\n",
    "model.add(Dense(128, activation='relu'))\n",
    "model.add(BatchNormalization())\n",
    "model.add(Dense(64, activation='relu'))\n",
    "model.add(BatchNormalization())\n",
    "model.add(Dense(32, activation='relu'))\n",
    "model.add(BatchNormalization())\n",
    "model.add(Dense(num_classes, activation='softmax'))\n",
    "# Compile model\n",
    "model.compile(loss='categorical_crossentropy', \n",
    "              optimizer='SGD', metrics=['accuracy'])\n",
    "\n",
    "\n",
    "\n",
    "# Fit the model\n",
    "history=model.fit(X_train, y_train, validation_split=0.2, \n",
    "          epochs=20, batch_size=200, verbose=2, callbacks=[callback])\n",
    "# Final evaluation of the model\n",
    "scores = model.evaluate(X_test, y_test, verbose=0)\n",
    "print(\"CNN Error: %.2f%%\" % (100-scores[1]*100))"
   ]
  },
  {
   "cell_type": "markdown",
   "metadata": {},
   "source": [
    "Worse accuracy than base. May be considered if convergence has not been met for error. "
   ]
  },
  {
   "cell_type": "code",
   "execution_count": 25,
   "metadata": {
    "execution": {
     "iopub.execute_input": "2021-11-22T12:03:44.586656Z",
     "iopub.status.busy": "2021-11-22T12:03:44.586122Z",
     "iopub.status.idle": "2021-11-22T12:03:45.548018Z",
     "shell.execute_reply": "2021-11-22T12:03:45.547285Z",
     "shell.execute_reply.started": "2021-11-22T12:03:44.586600Z"
    }
   },
   "outputs": [
    {
     "name": "stdout",
     "output_type": "stream",
     "text": [
      "              precision    recall  f1-score   support\n",
      "\n",
      " T-shirt/top       0.86      0.81      0.83      1000\n",
      "     Trouser       0.99      0.97      0.98      1000\n",
      "    Pullover       0.88      0.79      0.83      1000\n",
      "       Dress       0.91      0.90      0.90      1000\n",
      "        Coat       0.81      0.85      0.83      1000\n",
      "      Sandal       0.99      0.97      0.98      1000\n",
      "       Shirt       0.66      0.74      0.70      1000\n",
      "     Sneaker       0.93      0.98      0.96      1000\n",
      "         Bag       0.97      0.97      0.97      1000\n",
      "  Ankle boot       0.98      0.95      0.96      1000\n",
      "\n",
      "    accuracy                           0.89     10000\n",
      "   macro avg       0.90      0.89      0.89     10000\n",
      "weighted avg       0.90      0.89      0.89     10000\n",
      "\n"
     ]
    }
   ],
   "source": [
    "predictedL = np.argmax(model.predict(X_test), axis=1)\n",
    "actualL = np.argmax(y_test, axis=1)\n",
    "print(classification_report(actualL, predictedL, target_names=class_names))"
   ]
  },
  {
   "cell_type": "markdown",
   "metadata": {},
   "source": [
    "Convergence has been met, may not be able to get better accuracy using this optimizer"
   ]
  },
  {
   "cell_type": "code",
   "execution_count": 26,
   "metadata": {
    "execution": {
     "iopub.execute_input": "2021-11-22T12:03:45.549700Z",
     "iopub.status.busy": "2021-11-22T12:03:45.549396Z",
     "iopub.status.idle": "2021-11-22T12:03:46.017245Z",
     "shell.execute_reply": "2021-11-22T12:03:46.016492Z",
     "shell.execute_reply.started": "2021-11-22T12:03:45.549642Z"
    }
   },
   "outputs": [
    {
     "data": {
      "image/png": "[encoded data removed]",
      "text/plain": [
       "<Figure size 432x288 with 1 Axes>"
      ]
     },
     "metadata": {
      "needs_background": "light"
     },
     "output_type": "display_data"
    },
    {
     "data": {
      "text/plain": [
       "<matplotlib.legend.Legend at 0x7f3580312d10>"
      ]
     },
     "execution_count": 26,
     "metadata": {},
     "output_type": "execute_result"
    },
    {
     "data": {
      "image/png": "[encoded data removed]",
      "text/plain": [
       "<Figure size 432x288 with 1 Axes>"
      ]
     },
     "metadata": {
      "needs_background": "light"
     },
     "output_type": "display_data"
    }
   ],
   "source": [
    "plt.plot(history.history['accuracy'], label='Train Set')\n",
    "plt.plot(history.history['val_accuracy'], label='Test Set')\n",
    "plt.legend()\n",
    "plt.show()\n",
    "plt.plot(history.history['loss'], label='Train Set')\n",
    "plt.plot(history.history['val_loss'], label='Test Set')\n",
    "plt.legend()"
   ]
  },
  {
   "cell_type": "markdown",
   "metadata": {},
   "source": [
    "# Model 5"
   ]
  },
  {
   "cell_type": "code",
   "execution_count": 28,
   "metadata": {
    "execution": {
     "iopub.execute_input": "2021-11-22T12:03:46.028218Z",
     "iopub.status.busy": "2021-11-22T12:03:46.028011Z",
     "iopub.status.idle": "2021-11-22T12:04:14.624035Z",
     "shell.execute_reply": "2021-11-22T12:04:14.623271Z",
     "shell.execute_reply.started": "2021-11-22T12:03:46.028185Z"
    }
   },
   "outputs": [
    {
     "name": "stdout",
     "output_type": "stream",
     "text": [
      "Epoch 1/20\n",
      "240/240 - 3s - loss: 0.6376 - accuracy: 0.7919 - val_loss: 1.7397 - val_accuracy: 0.4874\n",
      "Epoch 2/20\n",
      "240/240 - 1s - loss: 0.3914 - accuracy: 0.8643 - val_loss: 0.6825 - val_accuracy: 0.7592\n",
      "Epoch 3/20\n",
      "240/240 - 1s - loss: 0.3305 - accuracy: 0.8851 - val_loss: 0.3228 - val_accuracy: 0.8879\n",
      "Epoch 4/20\n",
      "240/240 - 1s - loss: 0.2926 - accuracy: 0.8953 - val_loss: 0.2984 - val_accuracy: 0.8953\n",
      "Epoch 5/20\n",
      "240/240 - 2s - loss: 0.2671 - accuracy: 0.9033 - val_loss: 0.2789 - val_accuracy: 0.9003\n",
      "Epoch 6/20\n",
      "240/240 - 2s - loss: 0.2458 - accuracy: 0.9103 - val_loss: 0.2629 - val_accuracy: 0.9055\n",
      "Epoch 7/20\n",
      "240/240 - 1s - loss: 0.2283 - accuracy: 0.9171 - val_loss: 0.2556 - val_accuracy: 0.9096\n",
      "Epoch 8/20\n",
      "240/240 - 1s - loss: 0.2168 - accuracy: 0.9204 - val_loss: 0.2576 - val_accuracy: 0.9074\n",
      "Epoch 9/20\n",
      "240/240 - 1s - loss: 0.2005 - accuracy: 0.9273 - val_loss: 0.2734 - val_accuracy: 0.9003\n",
      "Epoch 10/20\n",
      "240/240 - 1s - loss: 0.1912 - accuracy: 0.9288 - val_loss: 0.2477 - val_accuracy: 0.9125\n",
      "Epoch 11/20\n",
      "240/240 - 1s - loss: 0.1767 - accuracy: 0.9349 - val_loss: 0.2449 - val_accuracy: 0.9133\n",
      "Epoch 12/20\n",
      "240/240 - 1s - loss: 0.1684 - accuracy: 0.9371 - val_loss: 0.2452 - val_accuracy: 0.9127\n",
      "Epoch 13/20\n",
      "240/240 - 1s - loss: 0.1608 - accuracy: 0.9401 - val_loss: 0.2569 - val_accuracy: 0.9118\n",
      "Epoch 14/20\n",
      "240/240 - 1s - loss: 0.1490 - accuracy: 0.9448 - val_loss: 0.2607 - val_accuracy: 0.9101\n",
      "Epoch 15/20\n",
      "240/240 - 1s - loss: 0.1400 - accuracy: 0.9477 - val_loss: 0.2514 - val_accuracy: 0.9118\n",
      "Epoch 16/20\n",
      "240/240 - 1s - loss: 0.1317 - accuracy: 0.9515 - val_loss: 0.2425 - val_accuracy: 0.9186\n",
      "Epoch 17/20\n",
      "240/240 - 1s - loss: 0.1262 - accuracy: 0.9535 - val_loss: 0.2407 - val_accuracy: 0.9191\n",
      "Epoch 18/20\n",
      "240/240 - 1s - loss: 0.1208 - accuracy: 0.9557 - val_loss: 0.2488 - val_accuracy: 0.9181\n",
      "Epoch 19/20\n",
      "240/240 - 1s - loss: 0.1128 - accuracy: 0.9578 - val_loss: 0.2570 - val_accuracy: 0.9134\n",
      "Epoch 20/20\n",
      "240/240 - 1s - loss: 0.1094 - accuracy: 0.9596 - val_loss: 0.2789 - val_accuracy: 0.9100\n",
      "CNN Error: 9.59%\n"
     ]
    }
   ],
   "source": [
    "# build the model\n",
    "# create model\n",
    "from tensorflow.keras.layers import BatchNormalization\n",
    "model = Sequential()\n",
    "model.add(Conv2D(32, (3, 3), input_shape=(28, 28, 1), activation='relu'))\n",
    "model.add(BatchNormalization())\n",
    "model.add(MaxPooling2D(pool_size=(2, 2)))\n",
    "model.add(BatchNormalization())\n",
    "model.add(Conv2D(64, (3, 3), activation='relu'))\n",
    "model.add(BatchNormalization())\n",
    "model.add(MaxPooling2D(pool_size=(2, 2)))\n",
    "model.add(BatchNormalization())\n",
    "model.add(Dropout(0.3))\n",
    "model.add(BatchNormalization())\n",
    "model.add(Flatten())\n",
    "model.add(BatchNormalization())\n",
    "model.add(Dense(128, activation='relu'))\n",
    "model.add(BatchNormalization())\n",
    "model.add(Dense(64, activation='relu'))\n",
    "model.add(BatchNormalization())\n",
    "model.add(Dense(32, activation='relu'))\n",
    "model.add(BatchNormalization())\n",
    "model.add(Dense(num_classes, activation='softmax'))\n",
    "# Compile model\n",
    "model.compile(loss='categorical_crossentropy', \n",
    "              optimizer='Adamax', metrics=['accuracy'])\n",
    "\n",
    "\n",
    "\n",
    "# Fit the model\n",
    "history=model.fit(X_train, y_train, validation_split=0.2, \n",
    "          epochs=20, batch_size=200, verbose=2)\n",
    "# Final evaluation of the model\n",
    "scores = model.evaluate(X_test, y_test, verbose=0)\n",
    "print(\"CNN Error: %.2f%%\" % (100-scores[1]*100))"
   ]
  },
  {
   "cell_type": "markdown",
   "metadata": {},
   "source": [
    "Precision and accuracy is quite good. Adamax may possibly be better than Adam"
   ]
  },
  {
   "cell_type": "code",
   "execution_count": 29,
   "metadata": {
    "execution": {
     "iopub.execute_input": "2021-11-22T12:04:14.625755Z",
     "iopub.status.busy": "2021-11-22T12:04:14.625331Z",
     "iopub.status.idle": "2021-11-22T12:04:15.464090Z",
     "shell.execute_reply": "2021-11-22T12:04:15.463304Z",
     "shell.execute_reply.started": "2021-11-22T12:04:14.625716Z"
    }
   },
   "outputs": [
    {
     "name": "stdout",
     "output_type": "stream",
     "text": [
      "              precision    recall  f1-score   support\n",
      "\n",
      " T-shirt/top       0.88      0.83      0.85      1000\n",
      "     Trouser       1.00      0.97      0.99      1000\n",
      "    Pullover       0.85      0.86      0.86      1000\n",
      "       Dress       0.86      0.95      0.91      1000\n",
      "        Coat       0.92      0.73      0.81      1000\n",
      "      Sandal       0.98      0.98      0.98      1000\n",
      "       Shirt       0.69      0.80      0.74      1000\n",
      "     Sneaker       0.94      0.98      0.96      1000\n",
      "         Bag       0.99      0.98      0.98      1000\n",
      "  Ankle boot       0.98      0.95      0.97      1000\n",
      "\n",
      "    accuracy                           0.90     10000\n",
      "   macro avg       0.91      0.90      0.90     10000\n",
      "weighted avg       0.91      0.90      0.90     10000\n",
      "\n"
     ]
    }
   ],
   "source": [
    "predictedL = np.argmax(model.predict(X_test), axis=1)\n",
    "actualL = np.argmax(y_test, axis=1)\n",
    "print(classification_report(actualL, predictedL, target_names=class_names))"
   ]
  },
  {
   "cell_type": "markdown",
   "metadata": {},
   "source": [
    "Convergence has been met, and in later epochs is diverging. May not be suitable for this model as there may be problems with fit in subsequent epochs"
   ]
  },
  {
   "cell_type": "code",
   "execution_count": 30,
   "metadata": {
    "execution": {
     "iopub.execute_input": "2021-11-22T12:04:15.465696Z",
     "iopub.status.busy": "2021-11-22T12:04:15.465400Z",
     "iopub.status.idle": "2021-11-22T12:04:16.356460Z",
     "shell.execute_reply": "2021-11-22T12:04:16.355571Z",
     "shell.execute_reply.started": "2021-11-22T12:04:15.465654Z"
    }
   },
   "outputs": [
    {
     "data": {
      "image/png": "[encoded data removed]",
      "text/plain": [
       "<Figure size 432x288 with 1 Axes>"
      ]
     },
     "metadata": {
      "needs_background": "light"
     },
     "output_type": "display_data"
    },
    {
     "data": {
      "text/plain": [
       "<matplotlib.legend.Legend at 0x7f35802a3750>"
      ]
     },
     "execution_count": 30,
     "metadata": {},
     "output_type": "execute_result"
    },
    {
     "data": {
      "image/png": "[encoded data removed]",
      "text/plain": [
       "<Figure size 432x288 with 1 Axes>"
      ]
     },
     "metadata": {
      "needs_background": "light"
     },
     "output_type": "display_data"
    }
   ],
   "source": [
    "plt.plot(history.history['accuracy'], label='Train Set')\n",
    "plt.plot(history.history['val_accuracy'], label='Test Set')\n",
    "plt.legend()\n",
    "plt.show()\n",
    "plt.plot(history.history['loss'], label='Train Set')\n",
    "plt.plot(history.history['val_loss'], label='Test Set')\n",
    "plt.legend()"
   ]
  },
  {
   "cell_type": "markdown",
   "metadata": {},
   "source": [
    "# Model 6"
   ]
  },
  {
   "cell_type": "code",
   "execution_count": 35,
   "metadata": {
    "execution": {
     "iopub.execute_input": "2021-11-22T12:07:44.570978Z",
     "iopub.status.busy": "2021-11-22T12:07:44.569770Z",
     "iopub.status.idle": "2021-11-22T12:07:44.820899Z",
     "shell.execute_reply": "2021-11-22T12:07:44.820140Z",
     "shell.execute_reply.started": "2021-11-22T12:07:44.570930Z"
    }
   },
   "outputs": [],
   "source": [
    "from tensorflow.keras.layers import BatchNormalization\n",
    "model = Sequential()\n",
    "model.add(Conv2D(32, (5, 5), input_shape=(28, 28, 1), activation='relu'))\n",
    "model.add(BatchNormalization())\n",
    "model.add(MaxPooling2D(pool_size=(2, 2)))\n",
    "model.add(BatchNormalization())\n",
    "model.add(Dropout(0.4))\n",
    "model.add(BatchNormalization())\n",
    "model.add(Conv2D(64, (3, 3), activation='relu'))\n",
    "model.add(BatchNormalization())\n",
    "model.add(MaxPooling2D(pool_size=(2, 2)))\n",
    "model.add(BatchNormalization())\n",
    "model.add(Dropout(0.4))\n",
    "model.add(Flatten())\n",
    "model.add(BatchNormalization())\n",
    "model.add(Dense(128, activation='relu'))\n",
    "model.add(BatchNormalization())\n",
    "model.add(Dropout(0.4))\n",
    "model.add(BatchNormalization())\n",
    "model.add(Dense(50, activation='relu'))\n",
    "model.add(BatchNormalization())\n",
    "model.add(Dropout(0.4))\n",
    "model.add(BatchNormalization())\n",
    "model.add(Dense(num_classes, activation='softmax'))\n",
    "# Compile model\n",
    "model.compile(loss='categorical_crossentropy', \n",
    "              optimizer='adam', metrics=['accuracy'])"
   ]
  },
  {
   "cell_type": "code",
   "execution_count": 36,
   "metadata": {
    "execution": {
     "iopub.execute_input": "2021-11-22T12:07:48.347278Z",
     "iopub.status.busy": "2021-11-22T12:07:48.347023Z",
     "iopub.status.idle": "2021-11-22T12:09:13.231729Z",
     "shell.execute_reply": "2021-11-22T12:09:13.230984Z",
     "shell.execute_reply.started": "2021-11-22T12:07:48.347248Z"
    },
    "scrolled": true
   },
   "outputs": [
    {
     "name": "stdout",
     "output_type": "stream",
     "text": [
      "Epoch 1/35\n",
      "240/240 - 3s - loss: 0.7932 - accuracy: 0.7303 - val_loss: 2.1256 - val_accuracy: 0.1728\n",
      "Epoch 2/35\n",
      "240/240 - 1s - loss: 0.4982 - accuracy: 0.8265 - val_loss: 0.5449 - val_accuracy: 0.8104\n",
      "Epoch 3/35\n",
      "240/240 - 1s - loss: 0.4256 - accuracy: 0.8518 - val_loss: 0.3420 - val_accuracy: 0.8725\n",
      "Epoch 4/35\n",
      "240/240 - 1s - loss: 0.3972 - accuracy: 0.8605 - val_loss: 0.2984 - val_accuracy: 0.8905\n",
      "Epoch 5/35\n",
      "240/240 - 2s - loss: 0.3743 - accuracy: 0.8694 - val_loss: 0.3168 - val_accuracy: 0.8818\n",
      "Epoch 6/35\n",
      "240/240 - 1s - loss: 0.3569 - accuracy: 0.8727 - val_loss: 0.2783 - val_accuracy: 0.8982\n",
      "Epoch 7/35\n",
      "240/240 - 1s - loss: 0.3441 - accuracy: 0.8795 - val_loss: 0.2814 - val_accuracy: 0.9017\n",
      "Epoch 8/35\n",
      "240/240 - 1s - loss: 0.3302 - accuracy: 0.8826 - val_loss: 0.2699 - val_accuracy: 0.9010\n",
      "Epoch 9/35\n",
      "240/240 - 1s - loss: 0.3212 - accuracy: 0.8854 - val_loss: 0.2802 - val_accuracy: 0.8965\n",
      "Epoch 10/35\n",
      "240/240 - 2s - loss: 0.3134 - accuracy: 0.8879 - val_loss: 0.2616 - val_accuracy: 0.9043\n",
      "Epoch 11/35\n",
      "240/240 - 1s - loss: 0.3060 - accuracy: 0.8901 - val_loss: 0.2588 - val_accuracy: 0.9065\n",
      "Epoch 12/35\n",
      "240/240 - 1s - loss: 0.3002 - accuracy: 0.8931 - val_loss: 0.2585 - val_accuracy: 0.9045\n",
      "Epoch 13/35\n",
      "240/240 - 2s - loss: 0.2944 - accuracy: 0.8944 - val_loss: 0.2626 - val_accuracy: 0.9043\n",
      "Epoch 14/35\n",
      "240/240 - 1s - loss: 0.2901 - accuracy: 0.8963 - val_loss: 0.2967 - val_accuracy: 0.8893\n",
      "Epoch 15/35\n",
      "240/240 - 1s - loss: 0.2832 - accuracy: 0.8992 - val_loss: 0.2512 - val_accuracy: 0.9083\n",
      "Epoch 16/35\n",
      "240/240 - 1s - loss: 0.2816 - accuracy: 0.9006 - val_loss: 0.2405 - val_accuracy: 0.9133\n",
      "Epoch 17/35\n",
      "240/240 - 1s - loss: 0.2782 - accuracy: 0.9000 - val_loss: 0.2410 - val_accuracy: 0.9112\n",
      "Epoch 18/35\n",
      "240/240 - 1s - loss: 0.2766 - accuracy: 0.9003 - val_loss: 0.2388 - val_accuracy: 0.9116\n",
      "Epoch 19/35\n",
      "240/240 - 1s - loss: 0.2701 - accuracy: 0.9034 - val_loss: 0.2379 - val_accuracy: 0.9135\n",
      "Epoch 20/35\n",
      "240/240 - 1s - loss: 0.2683 - accuracy: 0.9039 - val_loss: 0.2273 - val_accuracy: 0.9184\n",
      "Epoch 21/35\n",
      "240/240 - 2s - loss: 0.2653 - accuracy: 0.9061 - val_loss: 0.2333 - val_accuracy: 0.9129\n",
      "Epoch 22/35\n",
      "240/240 - 1s - loss: 0.2585 - accuracy: 0.9067 - val_loss: 0.2803 - val_accuracy: 0.8969\n",
      "Epoch 23/35\n",
      "240/240 - 1s - loss: 0.2578 - accuracy: 0.9081 - val_loss: 0.2199 - val_accuracy: 0.9204\n",
      "Epoch 24/35\n",
      "240/240 - 1s - loss: 0.2595 - accuracy: 0.9059 - val_loss: 0.2279 - val_accuracy: 0.9148\n",
      "Epoch 25/35\n",
      "240/240 - 1s - loss: 0.2522 - accuracy: 0.9115 - val_loss: 0.2400 - val_accuracy: 0.9101\n",
      "Epoch 26/35\n",
      "240/240 - 1s - loss: 0.2574 - accuracy: 0.9076 - val_loss: 0.2160 - val_accuracy: 0.9223\n",
      "Epoch 27/35\n",
      "240/240 - 1s - loss: 0.2464 - accuracy: 0.9112 - val_loss: 0.2244 - val_accuracy: 0.9188\n",
      "Epoch 28/35\n",
      "240/240 - 1s - loss: 0.2454 - accuracy: 0.9122 - val_loss: 0.2225 - val_accuracy: 0.9202\n",
      "Epoch 29/35\n",
      "240/240 - 2s - loss: 0.2449 - accuracy: 0.9114 - val_loss: 0.2381 - val_accuracy: 0.9138\n",
      "Epoch 30/35\n",
      "240/240 - 1s - loss: 0.2442 - accuracy: 0.9135 - val_loss: 0.2212 - val_accuracy: 0.9192\n",
      "Epoch 31/35\n",
      "240/240 - 1s - loss: 0.2406 - accuracy: 0.9136 - val_loss: 0.2102 - val_accuracy: 0.9227\n",
      "Epoch 32/35\n",
      "240/240 - 1s - loss: 0.2411 - accuracy: 0.9143 - val_loss: 0.2207 - val_accuracy: 0.9202\n",
      "Epoch 33/35\n",
      "240/240 - 1s - loss: 0.2308 - accuracy: 0.9178 - val_loss: 0.3003 - val_accuracy: 0.8892\n",
      "Epoch 34/35\n",
      "240/240 - 2s - loss: 0.2378 - accuracy: 0.9149 - val_loss: 0.2160 - val_accuracy: 0.9229\n",
      "Epoch 35/35\n",
      "240/240 - 2s - loss: 0.2329 - accuracy: 0.9167 - val_loss: 0.2387 - val_accuracy: 0.9151\n",
      "CNN Error: 8.69%\n"
     ]
    }
   ],
   "source": [
    "callback = tf.keras.callbacks.EarlyStopping(monitor='loss', patience=3)\n",
    "history=model.fit(X_train, y_train, validation_split=0.2, \n",
    "          epochs=35, batch_size=200, verbose=2,callbacks=[callback])\n",
    "# Final evaluation of the model\n",
    "scores = model.evaluate(X_test, y_test, verbose=0)\n",
    "print(\"CNN Error: %.2f%%\" % (100-scores[1]*100))"
   ]
  },
  {
   "cell_type": "markdown",
   "metadata": {},
   "source": [
    "Best accuracy so far. Most likely will be the final model"
   ]
  },
  {
   "cell_type": "code",
   "execution_count": 37,
   "metadata": {
    "execution": {
     "iopub.execute_input": "2021-11-22T12:09:13.233844Z",
     "iopub.status.busy": "2021-11-22T12:09:13.233569Z",
     "iopub.status.idle": "2021-11-22T12:09:14.082664Z",
     "shell.execute_reply": "2021-11-22T12:09:14.081138Z",
     "shell.execute_reply.started": "2021-11-22T12:09:13.233809Z"
    }
   },
   "outputs": [
    {
     "name": "stdout",
     "output_type": "stream",
     "text": [
      "              precision    recall  f1-score   support\n",
      "\n",
      " T-shirt/top       0.86      0.88      0.87      1000\n",
      "     Trouser       1.00      0.98      0.99      1000\n",
      "    Pullover       0.89      0.84      0.87      1000\n",
      "       Dress       0.92      0.91      0.92      1000\n",
      "        Coat       0.81      0.91      0.86      1000\n",
      "      Sandal       0.99      0.98      0.98      1000\n",
      "       Shirt       0.77      0.72      0.75      1000\n",
      "     Sneaker       0.92      0.99      0.95      1000\n",
      "         Bag       0.99      0.98      0.99      1000\n",
      "  Ankle boot       0.99      0.93      0.96      1000\n",
      "\n",
      "    accuracy                           0.91     10000\n",
      "   macro avg       0.91      0.91      0.91     10000\n",
      "weighted avg       0.91      0.91      0.91     10000\n",
      "\n"
     ]
    }
   ],
   "source": [
    "predictedL = np.argmax(model.predict(X_test), axis=1)\n",
    "actualL = np.argmax(y_test, axis=1)\n",
    "print(classification_report(actualL, predictedL, target_names=class_names))"
   ]
  },
  {
   "cell_type": "markdown",
   "metadata": {},
   "source": [
    "Convergence has been met and does not diverge. May be the best model for this dataset"
   ]
  },
  {
   "cell_type": "code",
   "execution_count": 38,
   "metadata": {
    "execution": {
     "iopub.execute_input": "2021-11-22T12:09:14.084293Z",
     "iopub.status.busy": "2021-11-22T12:09:14.084043Z",
     "iopub.status.idle": "2021-11-22T12:09:14.529021Z",
     "shell.execute_reply": "2021-11-22T12:09:14.528322Z",
     "shell.execute_reply.started": "2021-11-22T12:09:14.084258Z"
    }
   },
   "outputs": [
    {
     "data": {
      "image/png": "[encoded data removed]",
      "text/plain": [
       "<Figure size 432x288 with 1 Axes>"
      ]
     },
     "metadata": {
      "needs_background": "light"
     },
     "output_type": "display_data"
    },
    {
     "data": {
      "text/plain": [
       "<matplotlib.legend.Legend at 0x7f317e5cdcd0>"
      ]
     },
     "execution_count": 38,
     "metadata": {},
     "output_type": "execute_result"
    },
    {
     "data": {
      "image/png": "[encoded data removed]",
      "text/plain": [
       "<Figure size 432x288 with 1 Axes>"
      ]
     },
     "metadata": {
      "needs_background": "light"
     },
     "output_type": "display_data"
    }
   ],
   "source": [
    "plt.plot(history.history['accuracy'], label='Train Set')\n",
    "plt.plot(history.history['val_accuracy'], label='Test Set')\n",
    "plt.legend()\n",
    "plt.show()\n",
    "plt.plot(history.history['loss'], label='Train Set')\n",
    "plt.plot(history.history['val_loss'], label='Test Set')\n",
    "plt.legend()"
   ]
  },
  {
   "cell_type": "markdown",
   "metadata": {},
   "source": [
    "# Conclusion:\n",
    "\n",
    "Use model 6 as it is the best model with the best precision and lowest error."
   ]
  }
 ],
 "metadata": {
  "kernelspec": {
   "display_name": "Python 3",
   "language": "python",
   "name": "python3"
  },
  "language_info": {
   "codemirror_mode": {
    "name": "ipython",
    "version": 3
   },
   "file_extension": ".py",
   "mimetype": "text/x-python",
   "name": "python",
   "nbconvert_exporter": "python",
   "pygments_lexer": "ipython3",
   "version": "3.8.3"
  }
 },
 "nbformat": 4,
 "nbformat_minor": 4
}
